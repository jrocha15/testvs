{
 "cells": [
  {
   "cell_type": "code",
   "execution_count": null,
   "metadata": {},
   "outputs": [],
   "source": [
    "#######################paired programmming###############################\n",
    "\n",
    "# Problem Set 1: Indexing and Slicing Strings\n",
    "# Basic Indexing:\n",
    "# Given the string magic = 'abracadabra',\n",
    "# a. Retrieve the 5th character.\n",
    "# b. Retrieve the second to last character.\n",
    "# c. Find the first occurrence of the letter 'c'.\n",
    "string_magic = \"abracadabra\" \n",
    "\n",
    "# Advanced Slicing:\n",
    "# Given the string alphabet = 'abcdefghijklmnopqrstuvwxyz',\n",
    "# a. Extract the letters 'hij'.\n",
    "# b. Extract every second letter starting from 'a' to 'm'.\n",
    "# c. Reverse the entire string using slicing.\n",
    "\n",
    "# Problem Set 2: Extracting Information\n",
    "# From Descriptions:\n",
    "# Extract the name of the famous personality from the quote \"Ask not what your country can do for you — ask what you can do for your country. - John F. Kennedy\"\n",
    "\n",
    "# Manipulating Words:\n",
    "# Given the string info = \"Python is fun. Fun is good. Good is subjective.\",\n",
    "# a. Extract the word 'subjective' without knowing its exact position.\n",
    "# b. Extract every third word.\n",
    "# c. Reverse the positions of the words, but keep the characters in each word in the same order.\n",
    "\n",
    "# Problem Set 3: String Methods\n",
    "# Upper & Lower:\n",
    "# Convert the following text to lowercase: \"MAY THE FORCE BE WITH YOU.\"\n",
    "\n",
    "# String Joining and Splitting:\n",
    "# Given the list motto = [\"Make\", \"haste\", \"slowly.\"],\n",
    "# a. Convert the list into a single string.\n",
    "# b. Now, split the string at every occurrence of the letter 'a'.\n",
    "\n",
    "# Replacing Words:\n",
    "# Modify the sentence: \"Life is what happens when you are busy making other plans.\"\n",
    "# a. Replace \"busy\" with \"distracted\".\n",
    "# b. Replace \"plans\" with \"mistakes\".\n",
    "\n",
    "# Problem Set 4: String Properties and Advanced Operations\n",
    "# Repetition:\n",
    "# Concatenate the word \"Iteration\" 7 times.\n"
   ]
  }
 ],
 "metadata": {
  "language_info": {
   "name": "python"
  },
  "orig_nbformat": 4
 },
 "nbformat": 4,
 "nbformat_minor": 2
}
